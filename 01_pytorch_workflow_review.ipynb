{
  "nbformat": 4,
  "nbformat_minor": 0,
  "metadata": {
    "colab": {
      "provenance": [],
      "authorship_tag": "ABX9TyMwFGCGL7E1fE9VZSwTSRFQ",
      "include_colab_link": true
    },
    "kernelspec": {
      "name": "python3",
      "display_name": "Python 3"
    },
    "language_info": {
      "name": "python"
    }
  },
  "cells": [
    {
      "cell_type": "markdown",
      "metadata": {
        "id": "view-in-github",
        "colab_type": "text"
      },
      "source": [
        "<a href=\"https://colab.research.google.com/github/yiwenwangANU/pytorch_learning/blob/main/01_pytorch_workflow_review.ipynb\" target=\"_parent\"><img src=\"https://colab.research.google.com/assets/colab-badge.svg\" alt=\"Open In Colab\"/></a>"
      ]
    },
    {
      "cell_type": "code",
      "execution_count": 1,
      "metadata": {
        "id": "n-h53xgwojMI"
      },
      "outputs": [],
      "source": [
        "import torch\n",
        "from torch import nn\n",
        "import matplotlib.pyplot as plt"
      ]
    },
    {
      "cell_type": "markdown",
      "source": [
        "## Training and Testing Data"
      ],
      "metadata": {
        "id": "vZYYUCOvpeD8"
      }
    },
    {
      "cell_type": "code",
      "source": [
        "# unsqueeze add additional [] to certain dim\n",
        "X = torch.arange(0, 1, 0.02).unsqueeze(1)\n",
        "X[:5]"
      ],
      "metadata": {
        "colab": {
          "base_uri": "https://localhost:8080/"
        },
        "id": "O3JtcK29qVL0",
        "outputId": "9c7aa919-bdc6-4576-af44-2c5f9bc51731"
      },
      "execution_count": 2,
      "outputs": [
        {
          "output_type": "execute_result",
          "data": {
            "text/plain": [
              "tensor([[0.0000],\n",
              "        [0.0200],\n",
              "        [0.0400],\n",
              "        [0.0600],\n",
              "        [0.0800]])"
            ]
          },
          "metadata": {},
          "execution_count": 2
        }
      ]
    },
    {
      "cell_type": "code",
      "source": [
        "weight = 0.7\n",
        "bias = 0.3\n",
        "y = weight * X + bias\n",
        "y[:5]"
      ],
      "metadata": {
        "colab": {
          "base_uri": "https://localhost:8080/"
        },
        "id": "w30SCVIoqjsU",
        "outputId": "72422d7d-0e29-49c0-d614-4f4a23578ee6"
      },
      "execution_count": 3,
      "outputs": [
        {
          "output_type": "execute_result",
          "data": {
            "text/plain": [
              "tensor([[0.3000],\n",
              "        [0.3140],\n",
              "        [0.3280],\n",
              "        [0.3420],\n",
              "        [0.3560]])"
            ]
          },
          "metadata": {},
          "execution_count": 3
        }
      ]
    },
    {
      "cell_type": "code",
      "source": [
        "# train test split\n",
        "split = int(len(X)*0.8)\n",
        "# take the first 80% of data of X and y to form the training set\n",
        "X_train, y_train = X[:split],y[:split]\n",
        "# take the rest of data of X and y to form the training set\n",
        "X_test, y_test = X[split:], y[split:]\n",
        "X_train[:5], y_train[:5]"
      ],
      "metadata": {
        "colab": {
          "base_uri": "https://localhost:8080/"
        },
        "id": "EG9tke6pruOI",
        "outputId": "7f3b9262-195b-464d-e83a-21e8b41196c6"
      },
      "execution_count": 4,
      "outputs": [
        {
          "output_type": "execute_result",
          "data": {
            "text/plain": [
              "(tensor([[0.0000],\n",
              "         [0.0200],\n",
              "         [0.0400],\n",
              "         [0.0600],\n",
              "         [0.0800]]),\n",
              " tensor([[0.3000],\n",
              "         [0.3140],\n",
              "         [0.3280],\n",
              "         [0.3420],\n",
              "         [0.3560]]))"
            ]
          },
          "metadata": {},
          "execution_count": 4
        }
      ]
    },
    {
      "cell_type": "markdown",
      "source": [
        "##Data visualization"
      ],
      "metadata": {
        "id": "NIe4E-pOr5WJ"
      }
    },
    {
      "cell_type": "code",
      "source": [
        "# plot to visualize the training set, testing set and predictions\n",
        "def plot_prediction(X_train=X_train, y_train=y_train, X_test=X_test, y_test=y_test, y_pred=None):\n",
        "    plt.scatter(X_train, y_train, c='r', s=5,label='Training Set')\n",
        "    plt.scatter(X_test, y_test, c='b',s=5, label='Testing Set')\n",
        "    if(y_pred is not None):\n",
        "      plt.scatter(X_test, y_pred, c='g', s=5, label='Prediction')\n",
        "    plt.legend()\n",
        "    plt.show()\n",
        "\n",
        "plot_prediction()"
      ],
      "metadata": {
        "colab": {
          "base_uri": "https://localhost:8080/",
          "height": 430
        },
        "id": "TDrSYq5stGuI",
        "outputId": "38070ed2-cb57-4ea0-918c-0f8a1bee49b4"
      },
      "execution_count": 5,
      "outputs": [
        {
          "output_type": "display_data",
          "data": {
            "text/plain": [
              "<Figure size 640x480 with 1 Axes>"
            ],
            "image/png": "[encoded data removed]"
          },
          "metadata": {}
        }
      ]
    },
    {
      "cell_type": "markdown",
      "source": [
        "##Build the model"
      ],
      "metadata": {
        "id": "BKex1bM9uGPR"
      }
    },
    {
      "cell_type": "code",
      "source": [
        "# build the model that inherit from nn.Module\n",
        "class LinearRegressionModel(nn.Module):\n",
        "  def __init__(self):\n",
        "    super().__init__()\n",
        "    # initialize the parms with random values\n",
        "    self.weights = nn.Parameter(torch.randn(1))\n",
        "    self.bias = nn.Parameter(torch.randn(1))\n",
        "\n",
        "  # define the forward method that create output from input\n",
        "  def forward(self, x:torch.Tensor) ->torch.Tensor:\n",
        "    return self.weights * x + self.bias\n",
        "\n",
        "# set random seed to make sure getting the same result in every run\n",
        "torch.manual_seed(42)\n",
        "model = LinearRegressionModel()"
      ],
      "metadata": {
        "id": "LEU7QPvxv7En"
      },
      "execution_count": 6,
      "outputs": []
    },
    {
      "cell_type": "code",
      "source": [
        "# check the params in model by state_dict()\n",
        "# params are random initially\n",
        "model.state_dict()"
      ],
      "metadata": {
        "colab": {
          "base_uri": "https://localhost:8080/"
        },
        "id": "d_U_jlkBxhmU",
        "outputId": "7dc41df9-1aa5-4747-d347-b90efaa1e50c"
      },
      "execution_count": 7,
      "outputs": [
        {
          "output_type": "execute_result",
          "data": {
            "text/plain": [
              "OrderedDict([('weights', tensor([0.3367])), ('bias', tensor([0.1288]))])"
            ]
          },
          "metadata": {},
          "execution_count": 7
        }
      ]
    },
    {
      "cell_type": "markdown",
      "source": [
        "##Choose Loss function and Optimizer"
      ],
      "metadata": {
        "id": "2r-U3wcAx77W"
      }
    },
    {
      "cell_type": "code",
      "source": [
        "# choose the loss function, L1Loss is MAE\n",
        "loss_fn = nn.L1Loss()\n",
        "# choose optimizer, SGD or Adam is OK in this model\n",
        "optimizer = torch.optim.SGD(params=model.parameters(), lr=0.01)"
      ],
      "metadata": {
        "id": "BHO1KOTFyKxf"
      },
      "execution_count": 8,
      "outputs": []
    },
    {
      "cell_type": "markdown",
      "source": [
        "##Train the model and print loss"
      ],
      "metadata": {
        "id": "4uzR55XfzDPq"
      }
    },
    {
      "cell_type": "code",
      "source": [
        "epochs=300\n",
        "epoch_count = []\n",
        "loss_values = []\n",
        "test_loss_values = []\n",
        "\n",
        "for epoch in range(epochs):\n",
        "  model.train() # put model in training mode\n",
        "  y_pred=model(X_train) # bypass the X_train through the model(go through forward method)\n",
        "  loss = loss_fn(y_pred, y_train) # calculate the loss\n",
        "  optimizer.zero_grad() # set gradient to 0\n",
        "  loss.backward() # perfrom the back propagation\n",
        "  optimizer.step() # optimizer update params in model(weights and bias)\n",
        "  if(epoch % 10 == 0):\n",
        "    model.eval() # put model in evaluation mode\n",
        "    with torch.inference_mode():\n",
        "      test_pred = model(X_test) # calculate and record prediction and loss during epochs\n",
        "      test_loss = loss_fn(test_pred, y_test )\n",
        "    epoch_count.append(epoch)\n",
        "    loss_values.append(loss.item())\n",
        "    test_loss_values.append(test_loss.item())\n",
        "    print(f\"epoch: {epoch} | loss: {loss} | test loss: {test_loss}\")"
      ],
      "metadata": {
        "id": "u-G8qJpczKoo",
        "colab": {
          "base_uri": "https://localhost:8080/"
        },
        "outputId": "99af7293-b28c-4e4d-bc0a-18d7b3c04013"
      },
      "execution_count": 9,
      "outputs": [
        {
          "output_type": "stream",
          "name": "stdout",
          "text": [
            "epoch: 0 | loss: 0.31288138031959534 | test loss: 0.48106518387794495\n",
            "epoch: 10 | loss: 0.1976713240146637 | test loss: 0.3463551998138428\n",
            "epoch: 20 | loss: 0.08908725529909134 | test loss: 0.21729660034179688\n",
            "epoch: 30 | loss: 0.053148526698350906 | test loss: 0.14464017748832703\n",
            "epoch: 40 | loss: 0.04543796554207802 | test loss: 0.11360953003168106\n",
            "epoch: 50 | loss: 0.04167863354086876 | test loss: 0.09919948130846024\n",
            "epoch: 60 | loss: 0.03818932920694351 | test loss: 0.08886633068323135\n",
            "epoch: 70 | loss: 0.03476089984178543 | test loss: 0.0805937647819519\n",
            "epoch: 80 | loss: 0.03132382780313492 | test loss: 0.07232122868299484\n",
            "epoch: 90 | loss: 0.02788739837706089 | test loss: 0.06473556160926819\n",
            "epoch: 100 | loss: 0.024458957836031914 | test loss: 0.05646304413676262\n",
            "epoch: 110 | loss: 0.021020207554101944 | test loss: 0.04819049686193466\n",
            "epoch: 120 | loss: 0.01758546568453312 | test loss: 0.04060482233762741\n",
            "epoch: 130 | loss: 0.014155393466353416 | test loss: 0.03233227878808975\n",
            "epoch: 140 | loss: 0.010716589167714119 | test loss: 0.024059748277068138\n",
            "epoch: 150 | loss: 0.0072835334576666355 | test loss: 0.016474086791276932\n",
            "epoch: 160 | loss: 0.0038517764769494534 | test loss: 0.008201557211577892\n",
            "epoch: 170 | loss: 0.008932482451200485 | test loss: 0.005023092031478882\n",
            "epoch: 180 | loss: 0.008932482451200485 | test loss: 0.005023092031478882\n",
            "epoch: 190 | loss: 0.008932482451200485 | test loss: 0.005023092031478882\n",
            "epoch: 200 | loss: 0.008932482451200485 | test loss: 0.005023092031478882\n",
            "epoch: 210 | loss: 0.008932482451200485 | test loss: 0.005023092031478882\n",
            "epoch: 220 | loss: 0.008932482451200485 | test loss: 0.005023092031478882\n",
            "epoch: 230 | loss: 0.008932482451200485 | test loss: 0.005023092031478882\n",
            "epoch: 240 | loss: 0.008932482451200485 | test loss: 0.005023092031478882\n",
            "epoch: 250 | loss: 0.008932482451200485 | test loss: 0.005023092031478882\n",
            "epoch: 260 | loss: 0.008932482451200485 | test loss: 0.005023092031478882\n",
            "epoch: 270 | loss: 0.008932482451200485 | test loss: 0.005023092031478882\n",
            "epoch: 280 | loss: 0.008932482451200485 | test loss: 0.005023092031478882\n",
            "epoch: 290 | loss: 0.008932482451200485 | test loss: 0.005023092031478882\n"
          ]
        }
      ]
    },
    {
      "cell_type": "markdown",
      "source": [
        "##View training result and evaluate the model"
      ],
      "metadata": {
        "id": "mJmhdoStqpVq"
      }
    },
    {
      "cell_type": "code",
      "source": [
        "# check the weight and bias after training\n",
        "model.state_dict()"
      ],
      "metadata": {
        "id": "r2GEG8NDzMZE",
        "colab": {
          "base_uri": "https://localhost:8080/"
        },
        "outputId": "70fbd92e-fbb0-404c-c10a-f159e3e8b2d0"
      },
      "execution_count": 10,
      "outputs": [
        {
          "output_type": "execute_result",
          "data": {
            "text/plain": [
              "OrderedDict([('weights', tensor([0.6990])), ('bias', tensor([0.3093]))])"
            ]
          },
          "metadata": {},
          "execution_count": 10
        }
      ]
    },
    {
      "cell_type": "code",
      "source": [
        "# visualize the prediction in inference mode\n",
        "with torch.inference_mode():\n",
        "  y_pred = model(X_test)\n",
        "  plot_prediction(y_pred=y_pred)"
      ],
      "metadata": {
        "colab": {
          "base_uri": "https://localhost:8080/",
          "height": 430
        },
        "id": "C-M-FsKUqKy9",
        "outputId": "e7e96055-1cb4-423a-b354-d856101bb21d"
      },
      "execution_count": 11,
      "outputs": [
        {
          "output_type": "display_data",
          "data": {
            "text/plain": [
              "<Figure size 640x480 with 1 Axes>"
            ],
            "image/png": "[encoded data removed]"
          },
          "metadata": {}
        }
      ]
    },
    {
      "cell_type": "code",
      "source": [
        "# visualize the loss curve and test loss curve to make sure there is no overfitting\n",
        "def plot_loss_curve(epochs, loss, test_loss):\n",
        "  plt.plot(epochs, loss, c='b', label=\"Loss\")\n",
        "  plt.plot(epochs, test_loss, label='Test Loss')\n",
        "  plt.xlabel('epochs')\n",
        "  plt.ylabel('Loss')\n",
        "  plt.legend()\n",
        "  plt.show()\n",
        "\n",
        "plot_loss_curve(epoch_count, loss_values, test_loss_values)"
      ],
      "metadata": {
        "colab": {
          "base_uri": "https://localhost:8080/",
          "height": 451
        },
        "id": "ge_ZbKbmq_0A",
        "outputId": "ee52559f-e353-47dd-a3af-801f29b7c4ba"
      },
      "execution_count": 12,
      "outputs": [
        {
          "output_type": "display_data",
          "data": {
            "text/plain": [
              "<Figure size 640x480 with 1 Axes>"
            ],
            "image/png": "[encoded data removed]"
          },
          "metadata": {}
        }
      ]
    },
    {
      "cell_type": "markdown",
      "source": [
        "##Save the state dict of a model"
      ],
      "metadata": {
        "id": "8q2u3ytU8TPF"
      }
    },
    {
      "cell_type": "code",
      "source": [
        "from pathlib import Path\n",
        "# Create model dir\n",
        "MODEL_PATH = Path('models')\n",
        "MODEL_PATH.mkdir(parents=True, exist_ok=True)"
      ],
      "metadata": {
        "id": "chzh6obgZq6W"
      },
      "execution_count": 14,
      "outputs": []
    },
    {
      "cell_type": "code",
      "source": [
        "# save the model's state dict in .pt or .pth format\n",
        "MODEL_SAVE_PATH = 'models/01_pytorch_workflow_model.pt'\n",
        "torch.save(model.state_dict(), MODEL_SAVE_PATH)"
      ],
      "metadata": {
        "id": "lqHUjsDl8Vyu"
      },
      "execution_count": 15,
      "outputs": []
    },
    {
      "cell_type": "markdown",
      "source": [
        "## Load state dict from .pt file"
      ],
      "metadata": {
        "id": "D8K4YY5lZkAL"
      }
    },
    {
      "cell_type": "code",
      "source": [
        "# create a new model\n",
        "loaded_model = LinearRegressionModel()\n",
        "# load state dict from file\n",
        "loaded_model.load_state_dict(torch.load(MODEL_SAVE_PATH, weights_only=True))"
      ],
      "metadata": {
        "colab": {
          "base_uri": "https://localhost:8080/"
        },
        "id": "WpHQVeRpbTmr",
        "outputId": "00faa625-d7b0-4054-df51-63f3550e0782"
      },
      "execution_count": 16,
      "outputs": [
        {
          "output_type": "execute_result",
          "data": {
            "text/plain": [
              "<All keys matched successfully>"
            ]
          },
          "metadata": {},
          "execution_count": 16
        }
      ]
    },
    {
      "cell_type": "code",
      "source": [
        "# check the state dict\n",
        "loaded_model.state_dict()"
      ],
      "metadata": {
        "colab": {
          "base_uri": "https://localhost:8080/"
        },
        "id": "sg4d3iURbiBC",
        "outputId": "c8555379-3d18-407b-a9ef-9af3e472fd99"
      },
      "execution_count": 17,
      "outputs": [
        {
          "output_type": "execute_result",
          "data": {
            "text/plain": [
              "OrderedDict([('weights', tensor([0.6990])), ('bias', tensor([0.3093]))])"
            ]
          },
          "metadata": {},
          "execution_count": 17
        }
      ]
    }
  ]
}