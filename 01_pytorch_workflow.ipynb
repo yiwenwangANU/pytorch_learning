{
  "nbformat": 4,
  "nbformat_minor": 0,
  "metadata": {
    "colab": {
      "provenance": [],
      "authorship_tag": "ABX9TyMHHWsAbmdLCS6RBiT7ypt5",
      "include_colab_link": true
    },
    "kernelspec": {
      "name": "python3",
      "display_name": "Python 3"
    },
    "language_info": {
      "name": "python"
    }
  },
  "cells": [
    {
      "cell_type": "markdown",
      "metadata": {
        "id": "view-in-github",
        "colab_type": "text"
      },
      "source": [
        "<a href=\"https://colab.research.google.com/github/yiwenwangANU/pytorch_learning/blob/main/01_pytorch_workflow.ipynb\" target=\"_parent\"><img src=\"https://colab.research.google.com/assets/colab-badge.svg\" alt=\"Open In Colab\"/></a>"
      ]
    },
    {
      "cell_type": "code",
      "execution_count": null,
      "metadata": {
        "id": "nyA7-dG9qNjd"
      },
      "outputs": [],
      "source": [
        "import torch\n",
        "from torch import nn\n",
        "import matplotlib.pyplot as plt"
      ]
    },
    {
      "cell_type": "code",
      "source": [
        "  weight = 0.7\n",
        "  bias = 0.3\n",
        "\n",
        "  start = 0\n",
        "  end = 1\n",
        "  step = 0.02\n",
        "\n",
        "  X = torch.arange(start, end, step).unsqueeze(dim=1)\n",
        "  y = weight * X + bias\n",
        "  X[:5], y[:5]"
      ],
      "metadata": {
        "colab": {
          "base_uri": "https://localhost:8080/"
        },
        "id": "QcHcbz_Qug0E",
        "outputId": "493ed4a3-cddb-449e-cb2b-3b20ada27785"
      },
      "execution_count": null,
      "outputs": [
        {
          "output_type": "execute_result",
          "data": {
            "text/plain": [
              "(tensor([[0.0000],\n",
              "         [0.0200],\n",
              "         [0.0400],\n",
              "         [0.0600],\n",
              "         [0.0800]]),\n",
              " tensor([[0.3000],\n",
              "         [0.3140],\n",
              "         [0.3280],\n",
              "         [0.3420],\n",
              "         [0.3560]]))"
            ]
          },
          "metadata": {},
          "execution_count": 2
        }
      ]
    },
    {
      "cell_type": "code",
      "source": [
        "train_split = int(len(X) * 0.8)\n",
        "X_train, y_train = X[:train_split], y[:train_split]\n",
        "X_test, y_test = X[train_split:], y[train_split:]\n",
        "len(X_train), len(y_train)"
      ],
      "metadata": {
        "colab": {
          "base_uri": "https://localhost:8080/"
        },
        "id": "_T7GdUHHwtQK",
        "outputId": "53f08fd3-ad7b-428c-f5d4-b17e13676ce3"
      },
      "execution_count": null,
      "outputs": [
        {
          "output_type": "execute_result",
          "data": {
            "text/plain": [
              "(40, 40)"
            ]
          },
          "metadata": {},
          "execution_count": 3
        }
      ]
    },
    {
      "cell_type": "code",
      "source": [
        "def plot_prediction(X_train=X_train, y_train=y_train, X_test=X_test, y_test=y_test, y_predict=None):\n",
        "  plt.figure(figsize=(10, 7))\n",
        "  plt.scatter(X_train, y_train, c='b', s=4, label='Train Set')\n",
        "  plt.scatter(X_test, y_test, c='g', s=4, label='Test Set')\n",
        "  if y_predict is not None:\n",
        "    plt.scatter(X_test, y_predict, c='r', s=4, label='Predict Set')\n",
        "  plt.legend(prop={'size': 14})\n",
        "  plt.show"
      ],
      "metadata": {
        "id": "q8dzWqZe_yWu"
      },
      "execution_count": null,
      "outputs": []
    },
    {
      "cell_type": "code",
      "source": [
        "plot_prediction(X_train, y_train, X_test, y_test, None)"
      ],
      "metadata": {
        "colab": {
          "base_uri": "https://localhost:8080/",
          "height": 599
        },
        "id": "-lJ7rO6vCtv4",
        "outputId": "4593945a-8760-4816-935c-c7e2b7ce4141"
      },
      "execution_count": null,
      "outputs": [
        {
          "output_type": "display_data",
          "data": {
            "text/plain": [
              "<Figure size 1000x700 with 1 Axes>"
            ],
            "image/png": "[encoded data removed]"
          },
          "metadata": {}
        }
      ]
    },
    {
      "cell_type": "code",
      "source": [
        "from torch import nn\n",
        "\n",
        "class LinearRegressionModel(nn.Module):\n",
        "  def __init__(self):\n",
        "    super().__init__()\n",
        "    self.weights = nn.Parameter(torch.randn(1))\n",
        "    self.bias = nn.Parameter(torch.randn(1))\n",
        "\n",
        "  def forward(self, x: torch.Tensor) -> torch.Tensor:\n",
        "    return self.weights * x + self.bias\n"
      ],
      "metadata": {
        "id": "KW259ZRHCzZz"
      },
      "execution_count": null,
      "outputs": []
    },
    {
      "cell_type": "code",
      "source": [
        "torch.manual_seed(42)\n",
        "\n",
        "model_0 = LinearRegressionModel()"
      ],
      "metadata": {
        "id": "7nYyRmeIN4KH"
      },
      "execution_count": null,
      "outputs": []
    },
    {
      "cell_type": "code",
      "source": [
        "loss_fn = nn.L1Loss()\n",
        "optimizer = torch.optim.SGD(params=model_0.parameters(), lr=0.01)"
      ],
      "metadata": {
        "id": "YnePyT3sg1cv"
      },
      "execution_count": null,
      "outputs": []
    },
    {
      "cell_type": "code",
      "source": [
        "epochs = 200\n",
        "for epoch in range(epochs):\n",
        "  model_0.train()\n",
        "  y_pred = model_0(X_train)\n",
        "  loss = loss_fn(y_pred, y_train)\n",
        "  optimizer.zero_grad()\n",
        "  loss.backward()\n",
        "  optimizer.step()\n",
        "  model_0.eval()\n"
      ],
      "metadata": {
        "id": "iG_J0cfwahQ7"
      },
      "execution_count": null,
      "outputs": []
    },
    {
      "cell_type": "code",
      "source": [
        "with torch.inference_mode():\n",
        "  test_pred = model_0(X_test)\n",
        "  test_loss = loss_fn(test_pred, y_test)\n",
        "  print(test_loss)"
      ],
      "metadata": {
        "colab": {
          "base_uri": "https://localhost:8080/"
        },
        "id": "AebHYJ9zkBsK",
        "outputId": "05f018a8-4781-4cf7-f906-c45b9094636c"
      },
      "execution_count": null,
      "outputs": [
        {
          "output_type": "stream",
          "name": "stdout",
          "text": [
            "tensor(0.0084)\n"
          ]
        }
      ]
    },
    {
      "cell_type": "code",
      "source": [
        "model_0.state_dict()"
      ],
      "metadata": {
        "colab": {
          "base_uri": "https://localhost:8080/"
        },
        "id": "obRZ0vA9c4Z8",
        "outputId": "38dc8edf-9339-47b9-c7fd-f1816fd4e9a1"
      },
      "execution_count": null,
      "outputs": [
        {
          "output_type": "execute_result",
          "data": {
            "text/plain": [
              "OrderedDict([('weights', tensor([0.6990])), ('bias', tensor([0.3093]))])"
            ]
          },
          "metadata": {},
          "execution_count": 11
        }
      ]
    },
    {
      "cell_type": "code",
      "source": [
        "import torch\n",
        "from torch import nn\n",
        "import matplotlib.pyplot as plt"
      ],
      "metadata": {
        "id": "GGB8zfqu1sVg"
      },
      "execution_count": null,
      "outputs": []
    },
    {
      "cell_type": "code",
      "source": [
        "torch.manual_seed(42)\n",
        "class model_1(nn.Module):\n",
        "  def __init__(self):\n",
        "    super().__init__()\n",
        "    self.weights = nn.Parameter(torch.randn(1))\n",
        "    self.bias = nn.Parameter(torch.randn(1))\n",
        "\n",
        "  def forward(self, x):\n",
        "    return self.weights * x + self.bias"
      ],
      "metadata": {
        "id": "fUYBuPSa0std"
      },
      "execution_count": null,
      "outputs": []
    },
    {
      "cell_type": "code",
      "source": [
        "model = model_1()"
      ],
      "metadata": {
        "id": "QDhwszlEEWFE"
      },
      "execution_count": null,
      "outputs": []
    },
    {
      "cell_type": "code",
      "source": [
        "loss_fn = nn.L1Loss()\n",
        "optimizer = torch.optim.SGD(params=model.parameters(), lr=0.01)"
      ],
      "metadata": {
        "id": "hV6dv7j3E1wX"
      },
      "execution_count": null,
      "outputs": []
    },
    {
      "cell_type": "code",
      "source": [
        "torch.manual_seed(42)\n",
        "epochs = 300\n",
        "\n",
        "epoch_count = []\n",
        "loss_values =[]\n",
        "test_loss_values = []\n",
        "\n",
        "for epoch in range(epochs):\n",
        "  model.train()\n",
        "  y_pred = model(X_train)\n",
        "  loss = loss_fn(y_pred, y_train)\n",
        "  optimizer.zero_grad()\n",
        "  loss.backward()\n",
        "  optimizer.step()\n",
        "  model.eval()\n",
        "  with torch.inference_mode():\n",
        "    test_pred = model(y_test)\n",
        "    test_loss = loss_fn(test_pred, y_test)\n",
        "  if epoch%10 == 0:\n",
        "    epoch_count.append(epoch)\n",
        "    loss_values.append(loss)\n",
        "    test_loss_values.append(test_loss)\n",
        "    print(f\"Epoch: {epoch} | Loss: {loss} | Test Loss: {test_loss}\")"
      ],
      "metadata": {
        "colab": {
          "base_uri": "https://localhost:8080/"
        },
        "id": "NH5SGrFWFEfH",
        "outputId": "af8dc5e6-6005-4ae4-fc9b-be991da423cd"
      },
      "execution_count": null,
      "outputs": [
        {
          "output_type": "stream",
          "name": "stdout",
          "text": [
            "Epoch: 0 | Loss: 0.31288138031959534 | Test Loss: 0.4698256850242615\n",
            "Epoch: 10 | Loss: 0.1976713240146637 | Test Loss: 0.33382871747016907\n",
            "Epoch: 20 | Loss: 0.08908725529909134 | Test Loss: 0.20348870754241943\n",
            "Epoch: 30 | Loss: 0.053148526698350906 | Test Loss: 0.12975125014781952\n",
            "Epoch: 40 | Loss: 0.04543796554207802 | Test Loss: 0.09794081002473831\n",
            "Epoch: 50 | Loss: 0.04167863354086876 | Test Loss: 0.08290375024080276\n",
            "Epoch: 60 | Loss: 0.03818932920694351 | Test Loss: 0.07198350876569748\n",
            "Epoch: 70 | Loss: 0.03476089984178543 | Test Loss: 0.06314468383789062\n",
            "Epoch: 80 | Loss: 0.03132382780313492 | Test Loss: 0.05430586263537407\n",
            "Epoch: 90 | Loss: 0.02788739837706089 | Test Loss: 0.046160854399204254\n",
            "Epoch: 100 | Loss: 0.024458957836031914 | Test Loss: 0.0373220220208168\n",
            "Epoch: 110 | Loss: 0.021020207554101944 | Test Loss: 0.028483206406235695\n",
            "Epoch: 120 | Loss: 0.01758546568453312 | Test Loss: 0.021132390946149826\n",
            "Epoch: 130 | Loss: 0.014155393466353416 | Test Loss: 0.015439515933394432\n",
            "Epoch: 140 | Loss: 0.010716589167714119 | Test Loss: 0.012343818321824074\n",
            "Epoch: 150 | Loss: 0.0072835334576666355 | Test Loss: 0.012339085340499878\n",
            "Epoch: 160 | Loss: 0.0038517764769494534 | Test Loss: 0.015704387798905373\n",
            "Epoch: 170 | Loss: 0.008932482451200485 | Test Loss: 0.01817433163523674\n",
            "Epoch: 180 | Loss: 0.008932482451200485 | Test Loss: 0.01817433163523674\n",
            "Epoch: 190 | Loss: 0.008932482451200485 | Test Loss: 0.01817433163523674\n",
            "Epoch: 200 | Loss: 0.008932482451200485 | Test Loss: 0.01817433163523674\n",
            "Epoch: 210 | Loss: 0.008932482451200485 | Test Loss: 0.01817433163523674\n",
            "Epoch: 220 | Loss: 0.008932482451200485 | Test Loss: 0.01817433163523674\n",
            "Epoch: 230 | Loss: 0.008932482451200485 | Test Loss: 0.01817433163523674\n",
            "Epoch: 240 | Loss: 0.008932482451200485 | Test Loss: 0.01817433163523674\n",
            "Epoch: 250 | Loss: 0.008932482451200485 | Test Loss: 0.01817433163523674\n",
            "Epoch: 260 | Loss: 0.008932482451200485 | Test Loss: 0.01817433163523674\n",
            "Epoch: 270 | Loss: 0.008932482451200485 | Test Loss: 0.01817433163523674\n",
            "Epoch: 280 | Loss: 0.008932482451200485 | Test Loss: 0.01817433163523674\n",
            "Epoch: 290 | Loss: 0.008932482451200485 | Test Loss: 0.01817433163523674\n"
          ]
        }
      ]
    },
    {
      "cell_type": "code",
      "source": [
        "model.state_dict()"
      ],
      "metadata": {
        "colab": {
          "base_uri": "https://localhost:8080/"
        },
        "id": "O1r0R61VFa8A",
        "outputId": "e9438cb7-039c-4c6f-d367-6163726e248a"
      },
      "execution_count": null,
      "outputs": [
        {
          "output_type": "execute_result",
          "data": {
            "text/plain": [
              "OrderedDict([('weights', tensor([0.6990])), ('bias', tensor([0.3093]))])"
            ]
          },
          "metadata": {},
          "execution_count": 40
        }
      ]
    },
    {
      "cell_type": "code",
      "source": [
        "with torch.inference_mode():\n",
        "  y_pred_new = model(X_test)\n",
        "  plot_prediction(y_predict=y_pred_new)"
      ],
      "metadata": {
        "colab": {
          "base_uri": "https://localhost:8080/",
          "height": 599
        },
        "id": "aNobsRtdGHHN",
        "outputId": "77ad3d23-0740-496b-ad4d-4ee64f9e98c5"
      },
      "execution_count": null,
      "outputs": [
        {
          "output_type": "display_data",
          "data": {
            "text/plain": [
              "<Figure size 1000x700 with 1 Axes>"
            ],
            "image/png": "[encoded data removed]"
          },
          "metadata": {}
        }
      ]
    },
    {
      "cell_type": "code",
      "source": [
        "loss_values"
      ],
      "metadata": {
        "colab": {
          "base_uri": "https://localhost:8080/"
        },
        "id": "jEzJihnaWqAk",
        "outputId": "03288ed1-1774-49fd-9a00-a3c25a076bc4"
      },
      "execution_count": null,
      "outputs": [
        {
          "output_type": "execute_result",
          "data": {
            "text/plain": [
              "[tensor(0.3129, grad_fn=<MeanBackward0>),\n",
              " tensor(0.1977, grad_fn=<MeanBackward0>),\n",
              " tensor(0.0891, grad_fn=<MeanBackward0>),\n",
              " tensor(0.0531, grad_fn=<MeanBackward0>),\n",
              " tensor(0.0454, grad_fn=<MeanBackward0>),\n",
              " tensor(0.0417, grad_fn=<MeanBackward0>),\n",
              " tensor(0.0382, grad_fn=<MeanBackward0>),\n",
              " tensor(0.0348, grad_fn=<MeanBackward0>),\n",
              " tensor(0.0313, grad_fn=<MeanBackward0>),\n",
              " tensor(0.0279, grad_fn=<MeanBackward0>),\n",
              " tensor(0.0245, grad_fn=<MeanBackward0>),\n",
              " tensor(0.0210, grad_fn=<MeanBackward0>),\n",
              " tensor(0.0176, grad_fn=<MeanBackward0>),\n",
              " tensor(0.0142, grad_fn=<MeanBackward0>),\n",
              " tensor(0.0107, grad_fn=<MeanBackward0>),\n",
              " tensor(0.0073, grad_fn=<MeanBackward0>),\n",
              " tensor(0.0039, grad_fn=<MeanBackward0>),\n",
              " tensor(0.0089, grad_fn=<MeanBackward0>),\n",
              " tensor(0.0089, grad_fn=<MeanBackward0>),\n",
              " tensor(0.0089, grad_fn=<MeanBackward0>),\n",
              " tensor(0.0089, grad_fn=<MeanBackward0>),\n",
              " tensor(0.0089, grad_fn=<MeanBackward0>),\n",
              " tensor(0.0089, grad_fn=<MeanBackward0>),\n",
              " tensor(0.0089, grad_fn=<MeanBackward0>),\n",
              " tensor(0.0089, grad_fn=<MeanBackward0>),\n",
              " tensor(0.0089, grad_fn=<MeanBackward0>),\n",
              " tensor(0.0089, grad_fn=<MeanBackward0>),\n",
              " tensor(0.0089, grad_fn=<MeanBackward0>),\n",
              " tensor(0.0089, grad_fn=<MeanBackward0>),\n",
              " tensor(0.0089, grad_fn=<MeanBackward0>)]"
            ]
          },
          "metadata": {},
          "execution_count": 42
        }
      ]
    },
    {
      "cell_type": "code",
      "source": [
        "epoch_count_np = list(range(len(loss_values)))  # create a list of epoch numbers if not already provided\n",
        "\n",
        "# Convert lists of tensors to lists of their scalar values after detaching and moving to CPU\n",
        "loss_values_np = [x.detach().cpu().item() for x in loss_values]\n",
        "test_loss_values_np = [x.detach().cpu().item() for x in test_loss_values]\n",
        "\n",
        "plt.plot(epoch_count_np, loss_values_np, label=\"Train Loss\")\n",
        "plt.plot(epoch_count_np, test_loss_values_np, label=\"Test Loss\")\n",
        "plt.title(\"Training and test loss curve\")\n",
        "plt.xlabel('Epochs')\n",
        "plt.ylabel('Loss')\n",
        "plt.legend()\n",
        "plt.show()"
      ],
      "metadata": {
        "colab": {
          "base_uri": "https://localhost:8080/",
          "height": 472
        },
        "id": "ZXVuv-Z1G7uD",
        "outputId": "14493860-87cb-4e9a-fddb-a4013a0a2711"
      },
      "execution_count": null,
      "outputs": [
        {
          "output_type": "display_data",
          "data": {
            "text/plain": [
              "<Figure size 640x480 with 1 Axes>"
            ],
            "image/png": "[encoded data removed]"
          },
          "metadata": {}
        }
      ]
    },
    {
      "cell_type": "markdown",
      "source": [
        "## Saving a PyTorch model\n"
      ],
      "metadata": {
        "id": "F_ctHF-lVtSv"
      }
    },
    {
      "cell_type": "code",
      "source": [
        "model.state_dict()"
      ],
      "metadata": {
        "colab": {
          "base_uri": "https://localhost:8080/"
        },
        "id": "jl7qR-iYcuvc",
        "outputId": "0bf6d1f9-77ec-4b1e-9659-fe957733f5b0"
      },
      "execution_count": null,
      "outputs": [
        {
          "output_type": "execute_result",
          "data": {
            "text/plain": [
              "OrderedDict([('weights', tensor([0.6990])), ('bias', tensor([0.3093]))])"
            ]
          },
          "metadata": {},
          "execution_count": 44
        }
      ]
    },
    {
      "cell_type": "code",
      "source": [
        "from pathlib import Path\n",
        "\n",
        "# Create model dir\n",
        "MODEL_PATH = Path('models')\n",
        "MODEL_PATH.mkdir(parents=True, exist_ok=True)\n",
        "\n",
        "# Create model name\n",
        "MODEL_NAME = '01_pytorch_workflow_model_0.pt'\n",
        "MODEL_SAVE_PATH = MODEL_PATH/MODEL_NAME\n",
        "\n",
        "# Save the model state dict\n",
        "torch.save(model.state_dict(), MODEL_SAVE_PATH)"
      ],
      "metadata": {
        "id": "mL4fbDO1dU3T"
      },
      "execution_count": null,
      "outputs": []
    },
    {
      "cell_type": "markdown",
      "source": [
        "##Load a PyTorch model"
      ],
      "metadata": {
        "id": "YjPRgVBYdbCA"
      }
    },
    {
      "cell_type": "code",
      "source": [
        "loaded_model_0 = LinearRegressionModel()\n",
        "loaded_model_0.load_state_dict(torch.load(MODEL_SAVE_PATH, weights_only=True))\n",
        "loaded_model_0.state_dict()"
      ],
      "metadata": {
        "colab": {
          "base_uri": "https://localhost:8080/"
        },
        "id": "r4eSvvgwgvmr",
        "outputId": "31a07daa-da68-4f53-d13c-ecd7748c9987"
      },
      "execution_count": null,
      "outputs": [
        {
          "output_type": "execute_result",
          "data": {
            "text/plain": [
              "OrderedDict([('weights', tensor([0.6990])), ('bias', tensor([0.3093]))])"
            ]
          },
          "metadata": {},
          "execution_count": 48
        }
      ]
    },
    {
      "cell_type": "markdown",
      "source": [
        "##Evaluate loaded model"
      ],
      "metadata": {
        "id": "YY3tFYwYhoVV"
      }
    },
    {
      "cell_type": "code",
      "source": [
        "loaded_model_0.eval()\n",
        "with torch.inference_mode():\n",
        "  loaded_pred = loaded_model_0(X_test)\n",
        "  plot_prediction(y_predict=loaded_pred)"
      ],
      "metadata": {
        "colab": {
          "base_uri": "https://localhost:8080/",
          "height": 599
        },
        "id": "1b8aAKODmf_J",
        "outputId": "1b79d722-b99a-486a-c911-59b4b7bdcadd"
      },
      "execution_count": null,
      "outputs": [
        {
          "output_type": "display_data",
          "data": {
            "text/plain": [
              "<Figure size 1000x700 with 1 Axes>"
            ],
            "image/png": "[encoded data removed]"
          },
          "metadata": {}
        }
      ]
    },
    {
      "cell_type": "code",
      "source": [
        "loaded_pred==y_pred_new"
      ],
      "metadata": {
        "colab": {
          "base_uri": "https://localhost:8080/"
        },
        "id": "0gM30DaJmnUH",
        "outputId": "f963a73d-6ed3-4759-cda5-09fd6bbb6ba0"
      },
      "execution_count": null,
      "outputs": [
        {
          "output_type": "execute_result",
          "data": {
            "text/plain": [
              "tensor([[True],\n",
              "        [True],\n",
              "        [True],\n",
              "        [True],\n",
              "        [True],\n",
              "        [True],\n",
              "        [True],\n",
              "        [True],\n",
              "        [True],\n",
              "        [True]])"
            ]
          },
          "metadata": {},
          "execution_count": 62
        }
      ]
    }
  ]
}